{
 "cells": [
  {
   "cell_type": "code",
   "execution_count": 6,
   "id": "3cf03357-6031-430e-8a94-ea25aaa3cf90",
   "metadata": {},
   "outputs": [
    {
     "ename": "SyntaxError",
     "evalue": "invalid syntax (1824492266.py, line 1)",
     "output_type": "error",
     "traceback": [
      "\u001b[0;36m  Input \u001b[0;32mIn [6]\u001b[0;36m\u001b[0m\n\u001b[0;31m    pip install nltk spacy gensim\u001b[0m\n\u001b[0m        ^\u001b[0m\n\u001b[0;31mSyntaxError\u001b[0m\u001b[0;31m:\u001b[0m invalid syntax\n"
     ]
    }
   ],
   "source": [
    "pip install nltk spacy gensim\n",
    "python -m spacy download en_core_web_sm\n"
   ]
  },
  {
   "cell_type": "code",
   "execution_count": null,
   "id": "a7fa78ac-edf3-45d4-8922-d6f573f3675a",
   "metadata": {},
   "outputs": [],
   "source": [
    "import pandas as pd\n",
    "import numpy as np\n",
    "import nltk\n",
    "import spacy\n",
    "import gensim\n",
    "from gensim import corpora, models\n",
    "from gensim.models import LdaModel\n",
    "from sklearn.feature_extraction.text import CountVectorizer\n",
    "from sklearn.model_selection import train_test_split\n",
    "from sklearn.metrics import accuracy_score, classification_report\n",
    "from nltk.sentiment import SentimentIntensityAnalyzer\n",
    "from nltk.corpus import stopwords\n",
    "from nltk.stem import WordNetLemmatizer\n",
    "\n",
    "# Load dataset (assuming CSV format with 'review_text' column)\n",
    "data = pd.read_csv('customer_reviews.csv')\n"
   ]
  },
  {
   "cell_type": "code",
   "execution_count": null,
   "id": "74bb7d4d-c579-444b-8bf4-71d8aef6410e",
   "metadata": {},
   "outputs": [],
   "source": [
    "nltk.download('stopwords')\n",
    "nltk.download('wordnet')\n",
    "nltk.download('vader_lexicon')\n",
    "stop_words = set(stopwords.words('english'))\n",
    "lemmatizer = WordNetLemmatizer()\n",
    "\n",
    "def preprocess(text):\n",
    "    tokens = nltk.word_tokenize(text.lower())\n",
    "    tokens = [lemmatizer.lemmatize(token) for token in tokens if token not in stop_words and token.isalpha()]\n",
    "    return tokens\n",
    "\n",
    "data['tokens'] = data['review_text'].apply(preprocess)"
   ]
  },
  {
   "cell_type": "code",
   "execution_count": null,
   "id": "346cd347-7272-4cdd-9a6f-65425d374428",
   "metadata": {},
   "outputs": [],
   "source": [
    "sia = SentimentIntensityAnalyzer()\n",
    "data['sentiment'] = data['review_text'].apply(lambda x: sia.polarity_scores(x)['compound'])\n",
    "data['sentiment_label'] = data['sentiment'].apply(lambda x: 'positive' if x > 0 else 'negative')\n"
   ]
  },
  {
   "cell_type": "code",
   "execution_count": null,
   "id": "16f56b76-05ea-4e61-8f34-8225bacc47a8",
   "metadata": {},
   "outputs": [],
   "source": [
    "n_topics = 5\n",
    "dictionary = corpora.Dictionary(data['tokens'])\n",
    "corpus = [dictionary.doc2bow(text) for text in data['tokens']]\n",
    "lda_model = LdaModel(corpus, num_topics=n_topics, id2word=dictionary, passes=15)\n",
    "\n",
    "topics = lda_model.print_topics(num_words=5)\n",
    "for topic in topics:\n",
    "    print(topic)\n"
   ]
  }
 ],
 "metadata": {
  "kernelspec": {
   "display_name": "anaconda-2022.05-py39",
   "language": "python",
   "name": "conda-env-anaconda-2022.05-py39-py"
  },
  "language_info": {
   "codemirror_mode": {
    "name": "ipython",
    "version": 3
   },
   "file_extension": ".py",
   "mimetype": "text/x-python",
   "name": "python",
   "nbconvert_exporter": "python",
   "pygments_lexer": "ipython3",
   "version": "3.9.12"
  }
 },
 "nbformat": 4,
 "nbformat_minor": 5
}
