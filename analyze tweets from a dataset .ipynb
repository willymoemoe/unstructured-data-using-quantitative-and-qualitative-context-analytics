{
 "cells": [
  {
   "cell_type": "code",
   "execution_count": null,
   "id": "3cf03357-6031-430e-8a94-ea25aaa3cf90",
   "metadata": {},
   "outputs": [],
   "source": [
    "pip install nltk spacy scikit-learn\n",
    "python -m spacy download en_core_web_sm\n"
   ]
  },
  {
   "cell_type": "code",
   "execution_count": null,
   "id": "a7fa78ac-edf3-45d4-8922-d6f573f3675a",
   "metadata": {},
   "outputs": [],
   "source": [
    "import pandas as pd\n",
    "import numpy as np\n",
    "import nltk\n",
    "import spacy\n",
    "import string\n",
    "from sklearn.feature_extraction.text import TfidfVectorizer\n",
    "from sklearn.cluster import KMeans\n",
    "from sklearn.metrics import silhouette_score\n",
    "from nltk.sentiment import SentimentIntensityAnalyzer\n",
    "from nltk.corpus import stopwords\n",
    "from nltk.stem import WordNetLemmatizer\n",
    "\n",
    "# Load dataset (assuming CSV format with 'tweet_text' column)\n",
    "data = pd.read_csv('tweets.csv')\n"
   ]
  },
  {
   "cell_type": "code",
   "execution_count": null,
   "id": "74bb7d4d-c579-444b-8bf4-71d8aef6410e",
   "metadata": {},
   "outputs": [],
   "source": [
    "nltk.download('stopwords')\n",
    "nltk.download('wordnet')\n",
    "nltk.download('vader_lexicon')\n",
    "stop_words = set(stopwords.words('english'))\n",
    "lemmatizer = WordNetLemmatizer()\n",
    "nlp = spacy.load('en_core_web_sm', disable=['parser', 'ner'])\n",
    "\n",
    "def preprocess(text):\n",
    "    doc = nlp(text.lower())\n",
    "    tokens = [lemmatizer.lemmatize(token.text) for token in doc if token.text not in stop_words and token.is_alpha()]\n",
    "    return ' '.join(tokens)\n",
    "\n",
    "data['processed_text'] = data['tweet_text'].apply(preprocess)\n",
    "\n"
   ]
  },
  {
   "cell_type": "code",
   "execution_count": null,
   "id": "346cd347-7272-4cdd-9a6f-65425d374428",
   "metadata": {},
   "outputs": [],
   "source": [
    "sia = SentimentIntensityAnalyzer()\n",
    "data['sentiment'] = data['tweet_text'].apply(lambda x: sia.polarity_scores(x)['compound'])\n",
    "data['sentiment_label'] = data['sentiment'].apply(lambda x: 'positive' if x > 0 else 'negative')\n",
    "\n",
    " "
   ]
  },
  {
   "cell_type": "code",
   "execution_count": null,
   "id": "16f56b76-05ea-4e61-8f34-8225bacc47a8",
   "metadata": {},
   "outputs": [],
   "source": [
    "n_clusters = 5\n",
    "vectorizer = TfidfVectorizer()\n",
    "X = vectorizer.fit_transform(data['processed_text'])\n",
    "\n",
    "kmeans = KMeans(n_clusters=n_clusters, random_state=42)\n",
    "labels = kmeans.fit_predict(X)\n",
    "\n",
    "data['cluster'] = labels\n",
    "silhouette_avg = silhouette_score(X, labels)\n",
    "print(\"Silhouette score:\", silhouette_avg)\n",
    "\n"
   ]
  }
 ],
 "metadata": {
  "kernelspec": {
   "display_name": "anaconda-2022.05-py39",
   "language": "python",
   "name": "conda-env-anaconda-2022.05-py39-py"
  },
  "language_info": {
   "codemirror_mode": {
    "name": "ipython",
    "version": 3
   },
   "file_extension": ".py",
   "mimetype": "text/x-python",
   "name": "python",
   "nbconvert_exporter": "python",
   "pygments_lexer": "ipython3",
   "version": "3.9.12"
  }
 },
 "nbformat": 4,
 "nbformat_minor": 5
}
